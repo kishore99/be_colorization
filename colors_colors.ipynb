{
  "nbformat": 4,
  "nbformat_minor": 0,
  "metadata": {
    "colab": {
      "name": "colors-colors.ipynb",
      "version": "0.3.2",
      "provenance": [],
      "collapsed_sections": [],
      "toc_visible": true,
      "include_colab_link": true
    },
    "kernelspec": {
      "name": "python3",
      "display_name": "Python 3"
    },
    "accelerator": "GPU"
  },
  "cells": [
    {
      "cell_type": "markdown",
      "metadata": {
        "id": "view-in-github",
        "colab_type": "text"
      },
      "source": [
        "<a href=\"https://colab.research.google.com/github/kishore99/be_colorization/blob/master/colors_colors.ipynb\" target=\"_parent\"><img src=\"https://colab.research.google.com/assets/colab-badge.svg\" alt=\"Open In Colab\"/></a>"
      ]
    },
    {
      "metadata": {
        "id": "31GocVslf2IF",
        "colab_type": "text"
      },
      "cell_type": "markdown",
      "source": [
        "##Don't close this browser tab while your project is running.\n",
        "\n",
        "**Run the code block below to start your Clouderizer project. **"
      ]
    },
    {
      "metadata": {
        "id": "VAN5urYIO8Jq",
        "colab_type": "code",
        "outputId": "8ba6ccd7-dce1-4d3b-8eae-97d22185f0a8",
        "colab": {
          "base_uri": "https://localhost:8080/",
          "height": 857
        }
      },
      "cell_type": "code",
      "source": [
        "!wget -NS --content-disposition https://console.clouderizer.com/givemeinitsh/zEMQNyeS && bash ./clouderizer_init.sh\n",
        "\n"
      ],
      "execution_count": 1,
      "outputs": [
        {
          "output_type": "stream",
          "text": [
            "--2019-03-13 14:59:53--  https://console.clouderizer.com/givemeinitsh/zEMQNyeS\n",
            "Resolving console.clouderizer.com (console.clouderizer.com)... 35.211.27.27\n",
            "Connecting to console.clouderizer.com (console.clouderizer.com)|35.211.27.27|:443... connected.\n",
            "HTTP request sent, awaiting response... \n",
            "  HTTP/1.1 200 OK\n",
            "  Server: nginx/1.10.3 (Ubuntu)\n",
            "  Date: Wed, 13 Mar 2019 14:59:54 GMT\n",
            "  Content-Type: application/octet-stream; charset=utf-8\n",
            "  Content-Length: 5234\n",
            "  Connection: keep-alive\n",
            "  X-Powered-By: Sails <sailsjs.org>\n",
            "  Access-Control-Allow-Origin: \n",
            "  Access-Control-Allow-Credentials: \n",
            "  Access-Control-Allow-Methods: \n",
            "  Access-Control-Allow-Headers: \n",
            "  Access-Control-Expose-Headers: \n",
            "  Content-Disposition: attachment; filename=\"clouderizer_init.sh\"\n",
            "  ETag: W/\"1472-B5cKe0GDBQgiXm284ctT+A\"\n",
            "  set-cookie: sails.sid=s%3AhUtdXObiJyMu4XT1UfMSIjd0hIhjr3st.hY%2FDktVus6Pu74Ff6w8eAibd0n%2BIYeuh6Aa%2Fq4v0xbU; Path=/; HttpOnly\n",
            "Length: 5234 (5.1K) [application/octet-stream]\n",
            "Last-modified header missing -- time-stamps turned off.\n",
            "--2019-03-13 14:59:54--  https://console.clouderizer.com/givemeinitsh/zEMQNyeS\n",
            "Reusing existing connection to console.clouderizer.com:443.\n",
            "HTTP request sent, awaiting response... \n",
            "  HTTP/1.1 200 OK\n",
            "  Server: nginx/1.10.3 (Ubuntu)\n",
            "  Date: Wed, 13 Mar 2019 14:59:54 GMT\n",
            "  Content-Type: application/octet-stream; charset=utf-8\n",
            "  Content-Length: 5234\n",
            "  Connection: keep-alive\n",
            "  X-Powered-By: Sails <sailsjs.org>\n",
            "  Access-Control-Allow-Origin: \n",
            "  Access-Control-Allow-Credentials: \n",
            "  Access-Control-Allow-Methods: \n",
            "  Access-Control-Allow-Headers: \n",
            "  Access-Control-Expose-Headers: \n",
            "  Content-Disposition: attachment; filename=\"clouderizer_init.sh\"\n",
            "  ETag: W/\"1472-B5cKe0GDBQgiXm284ctT+A\"\n",
            "Length: 5234 (5.1K) [application/octet-stream]\n",
            "Saving to: ‘clouderizer_init.sh’\n",
            "\n",
            "\rclouderizer_init.sh   0%[                    ]       0  --.-KB/s               \rclouderizer_init.sh 100%[===================>]   5.11K  --.-KB/s    in 0s      \n",
            "\n",
            "2019-03-13 14:59:54 (585 MB/s) - ‘clouderizer_init.sh’ saved [5234/5234]\n",
            "\n",
            "Great! Your Clouderizer project is initializing...it might take few minutes before it is ready.\n",
            "\n",
            "**************************************************************************************\n",
            "YOU SHOULD NOW SWITCH BACK TO CLOUDERIZER WEB PAGE TO START WORKING ON YOUR PROJECT\n",
            "**************************************************************************************\n"
          ],
          "name": "stdout"
        }
      ]
    },
    {
      "metadata": {
        "id": "1rzBxzOrf2yX",
        "colab_type": "code",
        "colab": {
          "base_uri": "https://localhost:8080/",
          "height": 101
        },
        "outputId": "9ded689d-a4b8-480c-a7ce-addc4d3efde5"
      },
      "cell_type": "code",
      "source": [
        "!curl -s \"https://console.clouderizer.com/givemeinitsh/zEMQNyeS\" | bash"
      ],
      "execution_count": 2,
      "outputs": [
        {
          "output_type": "stream",
          "text": [
            "Great! Your Clouderizer project is initializing...it might take few minutes before it is ready.\n",
            "\n",
            "**************************************************************************************\n",
            "YOU SHOULD NOW SWITCH BACK TO CLOUDERIZER WEB PAGE TO START WORKING ON YOUR PROJECT\n",
            "**************************************************************************************\n"
          ],
          "name": "stdout"
        }
      ]
    }
  ]
}